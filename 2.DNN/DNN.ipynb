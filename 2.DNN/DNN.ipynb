{
 "cells": [
  {
   "cell_type": "markdown",
   "metadata": {},
   "source": [
    "### 심층신경망으로 분류 모델 만들기"
   ]
  },
  {
   "cell_type": "code",
   "execution_count": 19,
   "metadata": {},
   "outputs": [],
   "source": [
    "import tensorflow as tf\n",
    "import numpy as np"
   ]
  },
  {
   "cell_type": "code",
   "execution_count": 20,
   "metadata": {},
   "outputs": [],
   "source": [
    "#[털,날개] 있으면1 없으면\n",
    "x_data = np.array([[0,0],[1,0],[1,1],[0,0],[0,0],[0,1]])\n",
    "y_data = np.array([\n",
    "    [1,0,0],\n",
    "    [0,1,0],\n",
    "    [0,0,1],\n",
    "    [1,0,0],\n",
    "    [1,0,0],\n",
    "    [0,0,1]\n",
    "])"
   ]
  },
  {
   "cell_type": "code",
   "execution_count": 21,
   "metadata": {},
   "outputs": [],
   "source": [
    "X= tf.placeholder(tf.float32)\n",
    "Y= tf.placeholder(tf.float32)"
   ]
  },
  {
   "cell_type": "code",
   "execution_count": 22,
   "metadata": {},
   "outputs": [],
   "source": [
    "W1 =tf.Variable(tf.random_uniform([2,10],-1.,1.))\n",
    "W2 =tf.Variable(tf.random_uniform([10,3],-1.,1.))\n",
    "\n",
    "b1 = tf.Variable(tf.zeros([10]))\n",
    "b2 = tf.Variable(tf.zeros([3]))"
   ]
  },
  {
   "cell_type": "markdown",
   "metadata": {},
   "source": [
    "심층 신경망을 만들기 위해 ANN에 가중치와 편향을 추가합니다.   \n",
    "W1 = [2,10] = [특징 수, 은닉층 뉴런 수]   \n",
    "W2 = [10,3] = [은닉층 뉴런 수, 분류 수]\n",
    "\n",
    "b1 = [10] = 은닉층 뉴런 수   \n",
    "b2 = [3] = 분류 수"
   ]
  },
  {
   "cell_type": "code",
   "execution_count": 23,
   "metadata": {},
   "outputs": [],
   "source": [
    "L1 = tf.add(tf.matmul(X,W1),b1)\n",
    "L1 = tf.nn.relu(L1)"
   ]
  },
  {
   "cell_type": "code",
   "execution_count": 24,
   "metadata": {},
   "outputs": [],
   "source": [
    "model = tf.add(tf.matmul(L1,W2),b2)"
   ]
  },
  {
   "cell_type": "code",
   "execution_count": 25,
   "metadata": {},
   "outputs": [],
   "source": [
    "cost = tf.reduce_mean(tf.nn.softmax_cross_entropy_with_logits_v2(labels= Y, logits=model))"
   ]
  },
  {
   "cell_type": "markdown",
   "metadata": {},
   "source": [
    "이전과 달리 tensorflow에서 기본 제공하는 교차 엔트로피 함수 `tf.nn.softmax_cross_entropy_with_logits_v2`를 이용하여 손실함수를 만듭니다."
   ]
  },
  {
   "cell_type": "code",
   "execution_count": 26,
   "metadata": {},
   "outputs": [],
   "source": [
    "optimizer = tf.train.GradientDescentOptimizer(learning_rate=0.01)\n",
    "train_op = optimizer.minimize(cost)"
   ]
  },
  {
   "cell_type": "markdown",
   "metadata": {},
   "source": [
    "마찬가지로 최적화 함수로 `GradientDescentOptimizer`대신`AdamOptimizer`을 사용해 봅니다. "
   ]
  },
  {
   "cell_type": "code",
   "execution_count": 27,
   "metadata": {},
   "outputs": [
    {
     "name": "stdout",
     "output_type": "stream",
     "text": [
      "10 0.7675964\n",
      "20 0.753092\n",
      "30 0.7390631\n",
      "40 0.7254873\n",
      "50 0.71234035\n",
      "60 0.6996002\n",
      "70 0.687365\n",
      "80 0.67585063\n",
      "90 0.6648147\n",
      "100 0.6539268\n"
     ]
    }
   ],
   "source": [
    "init = tf.global_variables_initializer()\n",
    "sess = tf.Session()\n",
    "sess.run(init)\n",
    "\n",
    "for step in range(100):\n",
    "    sess.run(train_op, feed_dict={X: x_data, Y: y_data})\n",
    "    \n",
    "    if (step +1) % 10 ==0:\n",
    "        print(step +1 , sess.run(cost,feed_dict={X: x_data, Y: y_data}))"
   ]
  },
  {
   "cell_type": "code",
   "execution_count": 28,
   "metadata": {},
   "outputs": [
    {
     "name": "stdout",
     "output_type": "stream",
     "text": [
      "예측값 [0 1 2 0 0 2]\n",
      "실제값 [0 1 2 0 0 2]\n",
      "정확도: 100.00\n"
     ]
    }
   ],
   "source": [
    "prediction = tf.argmax(model, axis =1)\n",
    "target = tf.argmax(Y ,axis =1)\n",
    "print(\"예측값\", sess.run(prediction,feed_dict={X: x_data}))\n",
    "print(\"실제값\", sess.run(target, feed_dict={Y:y_data}))\n",
    "is_correct = tf.equal(prediction,target)\n",
    "accuracy = tf.reduce_mean(tf.cast(is_correct, tf.float32))\n",
    "print('정확도: %.2f'%sess.run(accuracy * 100, feed_dict={X: x_data, Y: y_data}))"
   ]
  },
  {
   "cell_type": "markdown",
   "metadata": {},
   "source": [
    "ANN과 달리 DNN의 정확도는 100을 달성합니다.\n",
    "딥러닝의 세계에 오신걸 환영합니다!"
   ]
  }
 ],
 "metadata": {
  "kernelspec": {
   "display_name": "Python 3",
   "language": "python",
   "name": "python3"
  },
  "language_info": {
   "codemirror_mode": {
    "name": "ipython",
    "version": 3
   },
   "file_extension": ".py",
   "mimetype": "text/x-python",
   "name": "python",
   "nbconvert_exporter": "python",
   "pygments_lexer": "ipython3",
   "version": "3.7.6"
  }
 },
 "nbformat": 4,
 "nbformat_minor": 2
}
